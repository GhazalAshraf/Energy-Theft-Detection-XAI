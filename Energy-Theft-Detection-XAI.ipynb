{
 "cells": [
  {
   "cell_type": "code",
   "execution_count": null,
   "metadata": {
    "colab": {
     "base_uri": "https://localhost:8080/"
    },
    "id": "H3e06LVEIJhw",
    "outputId": "7d48a420-47c0-4cf1-8a64-1823d797e92f"
   },
   "outputs": [
    {
     "name": "stdout",
     "output_type": "stream",
     "text": [
      "Requirement already satisfied: imbalanced-learn in /usr/local/lib/python3.10/dist-packages (0.10.1)\n",
      "Requirement already satisfied: numpy>=1.17.3 in /usr/local/lib/python3.10/dist-packages (from imbalanced-learn) (1.25.2)\n",
      "Requirement already satisfied: scipy>=1.3.2 in /usr/local/lib/python3.10/dist-packages (from imbalanced-learn) (1.11.4)\n",
      "Requirement already satisfied: scikit-learn>=1.0.2 in /usr/local/lib/python3.10/dist-packages (from imbalanced-learn) (1.2.2)\n",
      "Requirement already satisfied: joblib>=1.1.1 in /usr/local/lib/python3.10/dist-packages (from imbalanced-learn) (1.3.2)\n",
      "Requirement already satisfied: threadpoolctl>=2.0.0 in /usr/local/lib/python3.10/dist-packages (from imbalanced-learn) (3.3.0)\n",
      "Drive already mounted at /content/drive; to attempt to forcibly remount, call drive.mount(\"/content/drive\", force_remount=True).\n"
     ]
    }
   ],
   "source": [
    "!pip install imbalanced-learn\n",
    "!pip install shap\n",
    "\n",
    "import math\n",
    "from sklearn.ensemble import RandomForestClassifier\n",
    "from math import ceil\n",
    "import pandas as pd\n",
    "import numpy as np\n",
    "import seaborn as sns\n",
    "from scipy import stats\n",
    "from google.colab import drive\n",
    "drive.mount('/content/drive')\n",
    "from scipy.stats import zscore\n",
    "import matplotlib.pyplot as plt\n",
    "import matplotlib.dates as mdates\n",
    "from sklearn.preprocessing import MinMaxScaler\n",
    "from sklearn.model_selection import train_test_split\n",
    "from sklearn.preprocessing import StandardScaler\n",
    "from sklearn.utils import resample\n",
    "from imblearn.under_sampling import RandomUnderSampler\n",
    "from sklearn.utils import shuffle\n",
    "from xgboost import XGBClassifier\n",
    "import matplotlib.pyplot as plt\n",
    "from sklearn.metrics import accuracy_score, precision_score, recall_score\n",
    "from xgboost import XGBClassifier\n",
    "from imblearn.over_sampling import RandomOverSampler\n",
    "import shap\n"
   ]
  },
  {
   "cell_type": "code",
   "execution_count": null,
   "metadata": {
    "colab": {
     "base_uri": "https://localhost:8080/"
    },
    "id": "a2OoGzrLIMw4",
    "outputId": "46c1b044-fae9-49da-db62-8facec34a167"
   },
   "outputs": [
    {
     "name": "stderr",
     "output_type": "stream",
     "text": [
      "<ipython-input-2-feb3aa13bb4d>:5: DtypeWarning: Columns (4) have mixed types. Specify dtype option on import or set low_memory=False.\n",
      "  df_invoice= pd.read_csv(file_path_df_invoice )\n"
     ]
    }
   ],
   "source": [
    "\n",
    "file_path_df_client= '/content/drive/MyDrive/Ghazal Project/client_train.csv'\n",
    "df_client= pd.read_csv(file_path_df_client)\n",
    "\n",
    "file_path_df_invoice = '/content/drive/MyDrive/Ghazal Project/invoice_train.csv'\n",
    "df_invoice= pd.read_csv(file_path_df_invoice )"
   ]
  },
  {
   "cell_type": "code",
   "execution_count": null,
   "metadata": {
    "colab": {
     "base_uri": "https://localhost:8080/"
    },
    "id": "qgoIWyxaIOaC",
    "outputId": "814bc906-8fe6-41a6-cc17-61b313cca271"
   },
   "outputs": [
    {
     "name": "stdout",
     "output_type": "stream",
     "text": [
      "Client Train dataset shape:  (135493, 6)\n",
      "Invoice train dataset shape:  (4476749, 16)\n"
     ]
    }
   ],
   "source": [
    "#shape of dataframe\n",
    "print(\"Client Train dataset shape: \", df_client.shape)\n",
    "print(\"Invoice train dataset shape: \", df_invoice.shape)"
   ]
  },
  {
   "cell_type": "code",
   "execution_count": null,
   "metadata": {
    "colab": {
     "base_uri": "https://localhost:8080/"
    },
    "id": "8AUwQC-_IUPf",
    "outputId": "50e4498c-b545-40e3-9365-c63d350a4aac"
   },
   "outputs": [
    {
     "data": {
      "text/plain": [
       "Index(['disrict', 'client_id', 'client_catg', 'region', 'creation_date',\n",
       "       'target'],\n",
       "      dtype='object')"
      ]
     },
     "execution_count": 4,
     "metadata": {},
     "output_type": "execute_result"
    }
   ],
   "source": [
    "df_client.columns"
   ]
  },
  {
   "cell_type": "markdown",
   "metadata": {
    "id": "Bm8uU4sDsnPf"
   },
   "source": [
    "###Distriburion of Clent Category"
   ]
  },
  {
   "cell_type": "code",
   "execution_count": null,
   "metadata": {
    "colab": {
     "base_uri": "https://localhost:8080/",
     "height": 54
    },
    "id": "Badly0R81_nZ",
    "outputId": "ce32dbd0-88aa-4de1-ebef-6158b480bb32"
   },
   "outputs": [
    {
     "data": {
      "application/vnd.google.colaboratory.intrinsic+json": {
       "type": "string"
      },
      "text/plain": [
       "\"#Distribution of client Category\\ndf_client['creation_date'] = pd.to_datetime(df_client['creation_date'])\\nclient_catg_counts = df_client['client_catg'].value_counts()\\nplt.figure(figsize=(8, 6))\\nclient_catg_counts.plot(kind='bar')\\nplt.title('Distribution of client_catg')\\nplt.xlabel('Client Category')\\nplt.ylabel('Count')\\nplt.show()\""
      ]
     },
     "execution_count": 5,
     "metadata": {},
     "output_type": "execute_result"
    }
   ],
   "source": [
    "'''#Distribution of client Category\n",
    "df_client['creation_date'] = pd.to_datetime(df_client['creation_date'])\n",
    "client_catg_counts = df_client['client_catg'].value_counts()\n",
    "plt.figure(figsize=(8, 6))\n",
    "client_catg_counts.plot(kind='bar')\n",
    "plt.title('Distribution of client_catg')\n",
    "plt.xlabel('Client Category')\n",
    "plt.ylabel('Count')\n",
    "plt.show()'''\n",
    "\n"
   ]
  },
  {
   "cell_type": "markdown",
   "metadata": {
    "id": "JglDyVPcsreF"
   },
   "source": [
    "###Distribution of Target"
   ]
  },
  {
   "cell_type": "code",
   "execution_count": null,
   "metadata": {
    "colab": {
     "base_uri": "https://localhost:8080/",
     "height": 72
    },
    "id": "TI1ZY2zNpq_u",
    "outputId": "d2416110-b139-4c37-98b4-9fd1fad0b703"
   },
   "outputs": [
    {
     "data": {
      "application/vnd.google.colaboratory.intrinsic+json": {
       "type": "string"
      },
      "text/plain": [
       "\"client_catg_counts = df_client['target'].value_counts()\\n\\ntotal_count = client_catg_counts.sum()\\npercentage = client_catg_counts / total_count * 100\\n\\nplt.figure(figsize=(8, 6))\\nbars = client_catg_counts.plot(kind='bar')\\n\\n\\nfor i, count in enumerate(client_catg_counts):\\n    plt.text(i, count + 0.5, f'{percentage[i]:.2f}%', ha='center', va='bottom')\\n\\nplt.title('Distribution of Target')\\nplt.xlabel('Target')\\nplt.ylabel('Count')\\n\\nplt.show()\""
      ]
     },
     "execution_count": 6,
     "metadata": {},
     "output_type": "execute_result"
    }
   ],
   "source": [
    "#Distribution of Target\n",
    "\n",
    "'''client_catg_counts = df_client['target'].value_counts()\n",
    "\n",
    "total_count = client_catg_counts.sum()\n",
    "percentage = client_catg_counts / total_count * 100\n",
    "\n",
    "plt.figure(figsize=(8, 6))\n",
    "bars = client_catg_counts.plot(kind='bar')\n",
    "\n",
    "\n",
    "for i, count in enumerate(client_catg_counts):\n",
    "    plt.text(i, count + 0.5, f'{percentage[i]:.2f}%', ha='center', va='bottom')\n",
    "\n",
    "plt.title('Distribution of Target')\n",
    "plt.xlabel('Target')\n",
    "plt.ylabel('Count')\n",
    "\n",
    "plt.show()'''\n"
   ]
  },
  {
   "cell_type": "markdown",
   "metadata": {
    "id": "ImyZlDf_sty6"
   },
   "source": [
    "###Distribution of Counter Type"
   ]
  },
  {
   "cell_type": "code",
   "execution_count": null,
   "metadata": {
    "colab": {
     "base_uri": "https://localhost:8080/",
     "height": 72
    },
    "id": "S_GCx2YySC89",
    "outputId": "688cfd88-fe22-4e49-932f-0491e623fe59"
   },
   "outputs": [
    {
     "data": {
      "application/vnd.google.colaboratory.intrinsic+json": {
       "type": "string"
      },
      "text/plain": [
       "\"#Distribution of Counter Type\\ncounter_type_counts = df_invoice['counter_type'].value_counts()\\ntotal_count = counter_type_counts.sum()\\npercentage = counter_type_counts / total_count * 100\\n\\nplt.figure(figsize=(10, 6))\\nbars = counter_type_counts.sort_index().plot(kind='bar')\\n\\n# Add percentage labels on the bars\\nfor i, count in enumerate(counter_type_counts):\\n    plt.text(i, count + 0.5, f'{percentage[i]:.2f}%', ha='center', va='bottom')\\n\\nplt.title('Distribution of Counter Type')\\nplt.xlabel('Counter Type')\\nplt.ylabel('Count')\\n\\nplt.show()\""
      ]
     },
     "execution_count": 7,
     "metadata": {},
     "output_type": "execute_result"
    }
   ],
   "source": [
    "'''#Distribution of Counter Type\n",
    "counter_type_counts = df_invoice['counter_type'].value_counts()\n",
    "total_count = counter_type_counts.sum()\n",
    "percentage = counter_type_counts / total_count * 100\n",
    "\n",
    "plt.figure(figsize=(10, 6))\n",
    "bars = counter_type_counts.sort_index().plot(kind='bar')\n",
    "\n",
    "# Add percentage labels on the bars\n",
    "for i, count in enumerate(counter_type_counts):\n",
    "    plt.text(i, count + 0.5, f'{percentage[i]:.2f}%', ha='center', va='bottom')\n",
    "\n",
    "plt.title('Distribution of Counter Type')\n",
    "plt.xlabel('Counter Type')\n",
    "plt.ylabel('Count')\n",
    "\n",
    "plt.show()'''"
   ]
  },
  {
   "cell_type": "markdown",
   "metadata": {
    "id": "e69jPUBKsvGV"
   },
   "source": [
    "###Merging Dataset"
   ]
  },
  {
   "cell_type": "code",
   "execution_count": null,
   "metadata": {
    "id": "Oi_-xSASi2L3"
   },
   "outputs": [],
   "source": [
    "df_merge = pd.merge(df_client, df_invoice, on='client_id')\n",
    "\n",
    "df_merge['invoice_date'] = pd.to_datetime(df_merge['invoice_date'])\n",
    "df_merge = df_merge[df_merge['invoice_date'].dt.year >= 2007]"
   ]
  },
  {
   "cell_type": "markdown",
   "metadata": {
    "id": "J1i1vTTSsyr8"
   },
   "source": [
    "###Distribution of Target in Client Category"
   ]
  },
  {
   "cell_type": "code",
   "execution_count": null,
   "metadata": {
    "colab": {
     "base_uri": "https://localhost:8080/",
     "height": 91
    },
    "id": "v5GkAct5i6A-",
    "outputId": "26139b53-bc40-4302-9c8f-f0cce6c8dbc7"
   },
   "outputs": [
    {
     "data": {
      "application/vnd.google.colaboratory.intrinsic+json": {
       "type": "string"
      },
      "text/plain": [
       "\"#Distribution of Target in Client Category\\ntotal_counts = df_merge.groupby('client_catg')['target'].count()\\ntarget_counts = df_merge.groupby(['client_catg', 'target']).size()\\npercentage = (target_counts / total_counts).reset_index(name='percentage')\\n\\nplt.figure(figsize=(10, 6))\\nax = sns.barplot(x='client_catg', y='percentage', hue='target', data=percentage)\\nplt.title('Target Distribution in Client Category')\\nplt.xlabel('Client Category')\\nplt.ylabel('Target Percentage')\\n\\nfor p in ax.patches:\\n    height = p.get_height()\\n    if height != 0:\\n        ax.annotate(f'{height:.2f}%',\\n                    (p.get_x() + p.get_width() / 2., height),\\n                    ha='center', va='bottom', fontsize=9, color='black', xytext=(0, 5),\\n                    textcoords='offset points')\\n\\nplt.show()\""
      ]
     },
     "execution_count": 9,
     "metadata": {},
     "output_type": "execute_result"
    }
   ],
   "source": [
    "'''#Distribution of Target in Client Category\n",
    "total_counts = df_merge.groupby('client_catg')['target'].count()\n",
    "target_counts = df_merge.groupby(['client_catg', 'target']).size()\n",
    "percentage = (target_counts / total_counts).reset_index(name='percentage')\n",
    "\n",
    "plt.figure(figsize=(10, 6))\n",
    "ax = sns.barplot(x='client_catg', y='percentage', hue='target', data=percentage)\n",
    "plt.title('Target Distribution in Client Category')\n",
    "plt.xlabel('Client Category')\n",
    "plt.ylabel('Target Percentage')\n",
    "\n",
    "for p in ax.patches:\n",
    "    height = p.get_height()\n",
    "    if height != 0:\n",
    "        ax.annotate(f'{height:.2f}%',\n",
    "                    (p.get_x() + p.get_width() / 2., height),\n",
    "                    ha='center', va='bottom', fontsize=9, color='black', xytext=(0, 5),\n",
    "                    textcoords='offset points')\n",
    "\n",
    "plt.show()'''\n"
   ]
  },
  {
   "cell_type": "markdown",
   "metadata": {
    "id": "lp2MSvy-s1BV"
   },
   "source": [
    "###Distrubution of target in counter type"
   ]
  },
  {
   "cell_type": "code",
   "execution_count": null,
   "metadata": {
    "colab": {
     "base_uri": "https://localhost:8080/",
     "height": 72
    },
    "id": "tC6uSCh-9vfi",
    "outputId": "f5479cb3-47cb-4941-edab-36204a20a35d"
   },
   "outputs": [
    {
     "data": {
      "application/vnd.google.colaboratory.intrinsic+json": {
       "type": "string"
      },
      "text/plain": [
       "'#Distrubution of target in counter type\\n\\nplt.figure(figsize=(10, 6))\\nax = sns.countplot(x=\\'counter_type\\', hue=\\'target\\', data=df_merge)\\n\\ntotal = len(df_merge)\\n\\n# Adding percentage labels\\nfor p in ax.patches:\\n    height = p.get_height()\\n    if height > 0:\\n        ax.text(p.get_x() + p.get_width() / 2.,\\n                height + 3,\\n                \\'{:.2f}%\\'.format((height / total) * 100),\\n                ha=\"center\")\\n\\nplt.title(\\'Target Distribution in Counter Type\\')\\nplt.xlabel(\\'Counter Type\\')\\nplt.ylabel(\\'Target Count\\')\\nplt.show()'"
      ]
     },
     "execution_count": 10,
     "metadata": {},
     "output_type": "execute_result"
    }
   ],
   "source": [
    "'''#Distrubution of target in counter type\n",
    "\n",
    "plt.figure(figsize=(10, 6))\n",
    "ax = sns.countplot(x='counter_type', hue='target', data=df_merge)\n",
    "\n",
    "total = len(df_merge)\n",
    "\n",
    "# Adding percentage labels\n",
    "for p in ax.patches:\n",
    "    height = p.get_height()\n",
    "    if height > 0:\n",
    "        ax.text(p.get_x() + p.get_width() / 2.,\n",
    "                height + 3,\n",
    "                '{:.2f}%'.format((height / total) * 100),\n",
    "                ha=\"center\")\n",
    "\n",
    "plt.title('Target Distribution in Counter Type')\n",
    "plt.xlabel('Counter Type')\n",
    "plt.ylabel('Target Count')\n",
    "plt.show()'''\n"
   ]
  },
  {
   "cell_type": "markdown",
   "metadata": {
    "id": "38tZXx1ds7mn"
   },
   "source": [
    "###Distribution of Target in Region"
   ]
  },
  {
   "cell_type": "code",
   "execution_count": null,
   "metadata": {
    "colab": {
     "base_uri": "https://localhost:8080/",
     "height": 91
    },
    "id": "r7VsxOzDqFcg",
    "outputId": "1fd92c9a-9d37-4e5d-f7a9-7f228d68fad0"
   },
   "outputs": [
    {
     "data": {
      "application/vnd.google.colaboratory.intrinsic+json": {
       "type": "string"
      },
      "text/plain": [
       "'import matplotlib.pyplot as plt\\nimport seaborn as sns\\n\\nplt.figure(figsize=(10, 6))\\nax = sns.countplot(x=\\'disrict\\', hue=\\'target\\', data=df_merge)\\n\\ntotal = len(df_merge)  # Total count in the dataframe\\n\\n# Adding percentage labels\\nfor p in ax.patches:\\n    height = p.get_height()\\n    if height > 0:  # Display percentage only if the height is greater than 0\\n        ax.text(p.get_x() + p.get_width() / 2.,\\n                height + 3,\\n                \\'{:.2f}%\\'.format((height / total) * 100),\\n                ha=\"center\")\\n\\nplt.title(\\'Target Distribution in Region\\')\\nplt.xlabel(\\'Region\\')\\nplt.ylabel(\\'Target Count\\')\\nplt.show()'"
      ]
     },
     "execution_count": 11,
     "metadata": {},
     "output_type": "execute_result"
    }
   ],
   "source": [
    "'''\n",
    "plt.figure(figsize=(10, 6))\n",
    "ax = sns.countplot(x='disrict', hue='target', data=df_merge)\n",
    "\n",
    "total = len(df_merge)\n",
    "\n",
    "# Adding percentage labels\n",
    "for p in ax.patches:\n",
    "    height = p.get_height()\n",
    "    if height > 0:  # Display percentage only if the height is greater than 0\n",
    "        ax.text(p.get_x() + p.get_width() / 2.,\n",
    "                height + 3,\n",
    "                '{:.2f}%'.format((height / total) * 100),\n",
    "                ha=\"center\")\n",
    "\n",
    "plt.title('Target Distribution in Region')\n",
    "plt.xlabel('Region')\n",
    "plt.ylabel('Target Count')\n",
    "plt.show()'''\n"
   ]
  },
  {
   "cell_type": "markdown",
   "metadata": {
    "id": "fix_dw7Ms_AP"
   },
   "source": [
    "###Data Cleaning"
   ]
  },
  {
   "cell_type": "code",
   "execution_count": null,
   "metadata": {
    "colab": {
     "base_uri": "https://localhost:8080/"
    },
    "id": "giwr1JN9E0ax",
    "outputId": "61768d29-ad81-4035-c00d-00aea2c02201"
   },
   "outputs": [
    {
     "name": "stdout",
     "output_type": "stream",
     "text": [
      "Missing values in each column:\n",
      "disrict                 0\n",
      "client_id               0\n",
      "client_catg             0\n",
      "region                  0\n",
      "creation_date           0\n",
      "target                  0\n",
      "invoice_date            0\n",
      "tarif_type              0\n",
      "counter_number          0\n",
      "counter_statue          0\n",
      "counter_code            0\n",
      "reading_remarque        0\n",
      "counter_coefficient     0\n",
      "consommation_level_1    0\n",
      "consommation_level_2    0\n",
      "consommation_level_3    0\n",
      "consommation_level_4    0\n",
      "old_index               0\n",
      "new_index               0\n",
      "months_number           0\n",
      "counter_type            0\n",
      "dtype: int64\n"
     ]
    }
   ],
   "source": [
    "missing_values = df_merge.isnull().sum()\n",
    "print(\"Missing values in each column:\")\n",
    "print(missing_values)\n"
   ]
  },
  {
   "cell_type": "code",
   "execution_count": null,
   "metadata": {
    "colab": {
     "base_uri": "https://localhost:8080/"
    },
    "id": "6ZO_fjznayFw",
    "outputId": "40cd527f-a2a4-4f16-b502-6865a914cece"
   },
   "outputs": [
    {
     "name": "stdout",
     "output_type": "stream",
     "text": [
      "Duplicate rows found:\n",
      "         disrict            client_id  client_catg  region creation_date  \\\n",
      "951893        60  train_Client_125864           11     101    29/12/1998   \n",
      "1755798       62   train_Client_25894           11     301    16/06/1995   \n",
      "2137999       60    train_Client_3636           11     101    21/11/1988   \n",
      "2163374       60   train_Client_37069           11     101    09/03/1990   \n",
      "2433919       60   train_Client_44407           11     101    15/06/1989   \n",
      "2805729       60   train_Client_54609           11     101    16/02/1994   \n",
      "3394719       62    train_Client_7066           11     304    12/04/2013   \n",
      "3462929       60   train_Client_72519           11     101    03/06/1982   \n",
      "3628821       63   train_Client_77029           51     312    27/02/2010   \n",
      "\n",
      "         target invoice_date  tarif_type  counter_number counter_statue  ...  \\\n",
      "951893      0.0   2011-12-12          11          101545              5  ...   \n",
      "1755798     0.0   2010-07-13          40         6986740              5  ...   \n",
      "2137999     0.0   2012-01-18          40          312650              5  ...   \n",
      "2163374     0.0   2010-10-11          11            5284              5  ...   \n",
      "2433919     1.0   2008-02-28          11           66921              5  ...   \n",
      "2805729     0.0   2010-04-06          11          200912              5  ...   \n",
      "3394719     0.0   2014-10-28          40         4463323              5  ...   \n",
      "3462929     0.0   2013-01-21          11          246464              5  ...   \n",
      "3628821     0.0   2012-12-28          11          540417              5  ...   \n",
      "\n",
      "         reading_remarque  counter_coefficient  consommation_level_1  \\\n",
      "951893                  6                    1                     0   \n",
      "1755798                 6                    1                     0   \n",
      "2137999                 6                    1                     0   \n",
      "2163374                 6                    1                     0   \n",
      "2433919                 6                    1                     0   \n",
      "2805729                 6                    1                     0   \n",
      "3394719                 6                    1                     0   \n",
      "3462929                 6                    1                     0   \n",
      "3628821                 6                    1                     0   \n",
      "\n",
      "         consommation_level_2  consommation_level_3  consommation_level_4  \\\n",
      "951893                      0                     0                     0   \n",
      "1755798                     0                     0                     0   \n",
      "2137999                     0                     0                     0   \n",
      "2163374                     0                     0                     0   \n",
      "2433919                     0                     0                     0   \n",
      "2805729                     0                     0                     0   \n",
      "3394719                     0                     0                     0   \n",
      "3462929                     0                     0                     0   \n",
      "3628821                     0                     0                     0   \n",
      "\n",
      "         old_index  new_index  months_number  counter_type  \n",
      "951893       13680      13680              2          ELEC  \n",
      "1755798          0          0              2           GAZ  \n",
      "2137999        623        623              2           GAZ  \n",
      "2163374      99429      99429              2          ELEC  \n",
      "2433919          0          0              2          ELEC  \n",
      "2805729          0          0              2          ELEC  \n",
      "3394719         80         80              2           GAZ  \n",
      "3462929       2954       2954              2          ELEC  \n",
      "3628821      26429      26429              2          ELEC  \n",
      "\n",
      "[9 rows x 21 columns]\n"
     ]
    }
   ],
   "source": [
    "duplicate_rows = df_merge[df_merge.duplicated()]\n",
    "\n",
    "if duplicate_rows.empty:\n",
    "    print(\"No duplicate rows found.\")\n",
    "else:\n",
    "    print(\"Duplicate rows found:\")\n",
    "    print(duplicate_rows)\n"
   ]
  },
  {
   "cell_type": "code",
   "execution_count": null,
   "metadata": {
    "colab": {
     "base_uri": "https://localhost:8080/",
     "height": 443
    },
    "id": "UzZomRV0bHBE",
    "outputId": "08f4e8f6-2a5f-4187-80ad-10f97eb3441f"
   },
   "outputs": [
    {
     "data": {
      "application/vnd.google.colaboratory.intrinsic+json": {
       "type": "dataframe"
      },
      "text/html": [
       "\n",
       "  <div id=\"df-3db14228-2e8d-467d-b223-f5d5cc22d77e\" class=\"colab-df-container\">\n",
       "    <div>\n",
       "<style scoped>\n",
       "    .dataframe tbody tr th:only-of-type {\n",
       "        vertical-align: middle;\n",
       "    }\n",
       "\n",
       "    .dataframe tbody tr th {\n",
       "        vertical-align: top;\n",
       "    }\n",
       "\n",
       "    .dataframe thead th {\n",
       "        text-align: right;\n",
       "    }\n",
       "</style>\n",
       "<table border=\"1\" class=\"dataframe\">\n",
       "  <thead>\n",
       "    <tr style=\"text-align: right;\">\n",
       "      <th></th>\n",
       "      <th>disrict</th>\n",
       "      <th>client_id</th>\n",
       "      <th>client_catg</th>\n",
       "      <th>region</th>\n",
       "      <th>creation_date</th>\n",
       "      <th>target</th>\n",
       "      <th>invoice_date</th>\n",
       "      <th>tarif_type</th>\n",
       "      <th>counter_number</th>\n",
       "      <th>counter_statue</th>\n",
       "      <th>...</th>\n",
       "      <th>reading_remarque</th>\n",
       "      <th>counter_coefficient</th>\n",
       "      <th>consommation_level_1</th>\n",
       "      <th>consommation_level_2</th>\n",
       "      <th>consommation_level_3</th>\n",
       "      <th>consommation_level_4</th>\n",
       "      <th>old_index</th>\n",
       "      <th>new_index</th>\n",
       "      <th>months_number</th>\n",
       "      <th>counter_type</th>\n",
       "    </tr>\n",
       "  </thead>\n",
       "  <tbody>\n",
       "    <tr>\n",
       "      <th>0</th>\n",
       "      <td>60</td>\n",
       "      <td>train_Client_0</td>\n",
       "      <td>11</td>\n",
       "      <td>101</td>\n",
       "      <td>31/12/1994</td>\n",
       "      <td>0.0</td>\n",
       "      <td>2014-03-24</td>\n",
       "      <td>11</td>\n",
       "      <td>1335667</td>\n",
       "      <td>0</td>\n",
       "      <td>...</td>\n",
       "      <td>8</td>\n",
       "      <td>1</td>\n",
       "      <td>82</td>\n",
       "      <td>0</td>\n",
       "      <td>0</td>\n",
       "      <td>0</td>\n",
       "      <td>14302</td>\n",
       "      <td>14384</td>\n",
       "      <td>4</td>\n",
       "      <td>ELEC</td>\n",
       "    </tr>\n",
       "    <tr>\n",
       "      <th>1</th>\n",
       "      <td>60</td>\n",
       "      <td>train_Client_0</td>\n",
       "      <td>11</td>\n",
       "      <td>101</td>\n",
       "      <td>31/12/1994</td>\n",
       "      <td>0.0</td>\n",
       "      <td>2013-03-29</td>\n",
       "      <td>11</td>\n",
       "      <td>1335667</td>\n",
       "      <td>0</td>\n",
       "      <td>...</td>\n",
       "      <td>6</td>\n",
       "      <td>1</td>\n",
       "      <td>1200</td>\n",
       "      <td>184</td>\n",
       "      <td>0</td>\n",
       "      <td>0</td>\n",
       "      <td>12294</td>\n",
       "      <td>13678</td>\n",
       "      <td>4</td>\n",
       "      <td>ELEC</td>\n",
       "    </tr>\n",
       "    <tr>\n",
       "      <th>2</th>\n",
       "      <td>60</td>\n",
       "      <td>train_Client_0</td>\n",
       "      <td>11</td>\n",
       "      <td>101</td>\n",
       "      <td>31/12/1994</td>\n",
       "      <td>0.0</td>\n",
       "      <td>2015-03-23</td>\n",
       "      <td>11</td>\n",
       "      <td>1335667</td>\n",
       "      <td>0</td>\n",
       "      <td>...</td>\n",
       "      <td>8</td>\n",
       "      <td>1</td>\n",
       "      <td>123</td>\n",
       "      <td>0</td>\n",
       "      <td>0</td>\n",
       "      <td>0</td>\n",
       "      <td>14624</td>\n",
       "      <td>14747</td>\n",
       "      <td>4</td>\n",
       "      <td>ELEC</td>\n",
       "    </tr>\n",
       "    <tr>\n",
       "      <th>3</th>\n",
       "      <td>60</td>\n",
       "      <td>train_Client_0</td>\n",
       "      <td>11</td>\n",
       "      <td>101</td>\n",
       "      <td>31/12/1994</td>\n",
       "      <td>0.0</td>\n",
       "      <td>2015-07-13</td>\n",
       "      <td>11</td>\n",
       "      <td>1335667</td>\n",
       "      <td>0</td>\n",
       "      <td>...</td>\n",
       "      <td>8</td>\n",
       "      <td>1</td>\n",
       "      <td>102</td>\n",
       "      <td>0</td>\n",
       "      <td>0</td>\n",
       "      <td>0</td>\n",
       "      <td>14747</td>\n",
       "      <td>14849</td>\n",
       "      <td>4</td>\n",
       "      <td>ELEC</td>\n",
       "    </tr>\n",
       "    <tr>\n",
       "      <th>4</th>\n",
       "      <td>60</td>\n",
       "      <td>train_Client_0</td>\n",
       "      <td>11</td>\n",
       "      <td>101</td>\n",
       "      <td>31/12/1994</td>\n",
       "      <td>0.0</td>\n",
       "      <td>2016-11-17</td>\n",
       "      <td>11</td>\n",
       "      <td>1335667</td>\n",
       "      <td>0</td>\n",
       "      <td>...</td>\n",
       "      <td>9</td>\n",
       "      <td>1</td>\n",
       "      <td>572</td>\n",
       "      <td>0</td>\n",
       "      <td>0</td>\n",
       "      <td>0</td>\n",
       "      <td>15066</td>\n",
       "      <td>15638</td>\n",
       "      <td>12</td>\n",
       "      <td>ELEC</td>\n",
       "    </tr>\n",
       "    <tr>\n",
       "      <th>...</th>\n",
       "      <td>...</td>\n",
       "      <td>...</td>\n",
       "      <td>...</td>\n",
       "      <td>...</td>\n",
       "      <td>...</td>\n",
       "      <td>...</td>\n",
       "      <td>...</td>\n",
       "      <td>...</td>\n",
       "      <td>...</td>\n",
       "      <td>...</td>\n",
       "      <td>...</td>\n",
       "      <td>...</td>\n",
       "      <td>...</td>\n",
       "      <td>...</td>\n",
       "      <td>...</td>\n",
       "      <td>...</td>\n",
       "      <td>...</td>\n",
       "      <td>...</td>\n",
       "      <td>...</td>\n",
       "      <td>...</td>\n",
       "      <td>...</td>\n",
       "    </tr>\n",
       "    <tr>\n",
       "      <th>4476739</th>\n",
       "      <td>63</td>\n",
       "      <td>train_Client_99997</td>\n",
       "      <td>11</td>\n",
       "      <td>311</td>\n",
       "      <td>22/11/2011</td>\n",
       "      <td>0.0</td>\n",
       "      <td>2013-12-06</td>\n",
       "      <td>11</td>\n",
       "      <td>262195</td>\n",
       "      <td>0</td>\n",
       "      <td>...</td>\n",
       "      <td>9</td>\n",
       "      <td>1</td>\n",
       "      <td>282</td>\n",
       "      <td>0</td>\n",
       "      <td>0</td>\n",
       "      <td>0</td>\n",
       "      <td>1608</td>\n",
       "      <td>1890</td>\n",
       "      <td>4</td>\n",
       "      <td>ELEC</td>\n",
       "    </tr>\n",
       "    <tr>\n",
       "      <th>4476740</th>\n",
       "      <td>63</td>\n",
       "      <td>train_Client_99997</td>\n",
       "      <td>11</td>\n",
       "      <td>311</td>\n",
       "      <td>22/11/2011</td>\n",
       "      <td>0.0</td>\n",
       "      <td>2014-02-17</td>\n",
       "      <td>11</td>\n",
       "      <td>262195</td>\n",
       "      <td>0</td>\n",
       "      <td>...</td>\n",
       "      <td>9</td>\n",
       "      <td>1</td>\n",
       "      <td>341</td>\n",
       "      <td>0</td>\n",
       "      <td>0</td>\n",
       "      <td>0</td>\n",
       "      <td>2221</td>\n",
       "      <td>2562</td>\n",
       "      <td>4</td>\n",
       "      <td>ELEC</td>\n",
       "    </tr>\n",
       "    <tr>\n",
       "      <th>4476741</th>\n",
       "      <td>63</td>\n",
       "      <td>train_Client_99997</td>\n",
       "      <td>11</td>\n",
       "      <td>311</td>\n",
       "      <td>22/11/2011</td>\n",
       "      <td>0.0</td>\n",
       "      <td>2014-02-17</td>\n",
       "      <td>40</td>\n",
       "      <td>0</td>\n",
       "      <td>0</td>\n",
       "      <td>...</td>\n",
       "      <td>9</td>\n",
       "      <td>1</td>\n",
       "      <td>118</td>\n",
       "      <td>0</td>\n",
       "      <td>0</td>\n",
       "      <td>0</td>\n",
       "      <td>406</td>\n",
       "      <td>524</td>\n",
       "      <td>4</td>\n",
       "      <td>GAZ</td>\n",
       "    </tr>\n",
       "    <tr>\n",
       "      <th>4476742</th>\n",
       "      <td>63</td>\n",
       "      <td>train_Client_99997</td>\n",
       "      <td>11</td>\n",
       "      <td>311</td>\n",
       "      <td>22/11/2011</td>\n",
       "      <td>0.0</td>\n",
       "      <td>2014-06-13</td>\n",
       "      <td>11</td>\n",
       "      <td>262195</td>\n",
       "      <td>0</td>\n",
       "      <td>...</td>\n",
       "      <td>9</td>\n",
       "      <td>1</td>\n",
       "      <td>312</td>\n",
       "      <td>0</td>\n",
       "      <td>0</td>\n",
       "      <td>0</td>\n",
       "      <td>2562</td>\n",
       "      <td>2874</td>\n",
       "      <td>4</td>\n",
       "      <td>ELEC</td>\n",
       "    </tr>\n",
       "    <tr>\n",
       "      <th>4476743</th>\n",
       "      <td>63</td>\n",
       "      <td>train_Client_99997</td>\n",
       "      <td>11</td>\n",
       "      <td>311</td>\n",
       "      <td>22/11/2011</td>\n",
       "      <td>0.0</td>\n",
       "      <td>2019-11-06</td>\n",
       "      <td>11</td>\n",
       "      <td>262195</td>\n",
       "      <td>0</td>\n",
       "      <td>...</td>\n",
       "      <td>9</td>\n",
       "      <td>1</td>\n",
       "      <td>578</td>\n",
       "      <td>0</td>\n",
       "      <td>0</td>\n",
       "      <td>0</td>\n",
       "      <td>8505</td>\n",
       "      <td>9083</td>\n",
       "      <td>4</td>\n",
       "      <td>ELEC</td>\n",
       "    </tr>\n",
       "  </tbody>\n",
       "</table>\n",
       "<p>4168194 rows × 21 columns</p>\n",
       "</div>\n",
       "    <div class=\"colab-df-buttons\">\n",
       "\n",
       "  <div class=\"colab-df-container\">\n",
       "    <button class=\"colab-df-convert\" onclick=\"convertToInteractive('df-3db14228-2e8d-467d-b223-f5d5cc22d77e')\"\n",
       "            title=\"Convert this dataframe to an interactive table.\"\n",
       "            style=\"display:none;\">\n",
       "\n",
       "  <svg xmlns=\"http://www.w3.org/2000/svg\" height=\"24px\" viewBox=\"0 -960 960 960\">\n",
       "    <path d=\"M120-120v-720h720v720H120Zm60-500h600v-160H180v160Zm220 220h160v-160H400v160Zm0 220h160v-160H400v160ZM180-400h160v-160H180v160Zm440 0h160v-160H620v160ZM180-180h160v-160H180v160Zm440 0h160v-160H620v160Z\"/>\n",
       "  </svg>\n",
       "    </button>\n",
       "\n",
       "  <style>\n",
       "    .colab-df-container {\n",
       "      display:flex;\n",
       "      gap: 12px;\n",
       "    }\n",
       "\n",
       "    .colab-df-convert {\n",
       "      background-color: #E8F0FE;\n",
       "      border: none;\n",
       "      border-radius: 50%;\n",
       "      cursor: pointer;\n",
       "      display: none;\n",
       "      fill: #1967D2;\n",
       "      height: 32px;\n",
       "      padding: 0 0 0 0;\n",
       "      width: 32px;\n",
       "    }\n",
       "\n",
       "    .colab-df-convert:hover {\n",
       "      background-color: #E2EBFA;\n",
       "      box-shadow: 0px 1px 2px rgba(60, 64, 67, 0.3), 0px 1px 3px 1px rgba(60, 64, 67, 0.15);\n",
       "      fill: #174EA6;\n",
       "    }\n",
       "\n",
       "    .colab-df-buttons div {\n",
       "      margin-bottom: 4px;\n",
       "    }\n",
       "\n",
       "    [theme=dark] .colab-df-convert {\n",
       "      background-color: #3B4455;\n",
       "      fill: #D2E3FC;\n",
       "    }\n",
       "\n",
       "    [theme=dark] .colab-df-convert:hover {\n",
       "      background-color: #434B5C;\n",
       "      box-shadow: 0px 1px 3px 1px rgba(0, 0, 0, 0.15);\n",
       "      filter: drop-shadow(0px 1px 2px rgba(0, 0, 0, 0.3));\n",
       "      fill: #FFFFFF;\n",
       "    }\n",
       "  </style>\n",
       "\n",
       "    <script>\n",
       "      const buttonEl =\n",
       "        document.querySelector('#df-3db14228-2e8d-467d-b223-f5d5cc22d77e button.colab-df-convert');\n",
       "      buttonEl.style.display =\n",
       "        google.colab.kernel.accessAllowed ? 'block' : 'none';\n",
       "\n",
       "      async function convertToInteractive(key) {\n",
       "        const element = document.querySelector('#df-3db14228-2e8d-467d-b223-f5d5cc22d77e');\n",
       "        const dataTable =\n",
       "          await google.colab.kernel.invokeFunction('convertToInteractive',\n",
       "                                                    [key], {});\n",
       "        if (!dataTable) return;\n",
       "\n",
       "        const docLinkHtml = 'Like what you see? Visit the ' +\n",
       "          '<a target=\"_blank\" href=https://colab.research.google.com/notebooks/data_table.ipynb>data table notebook</a>'\n",
       "          + ' to learn more about interactive tables.';\n",
       "        element.innerHTML = '';\n",
       "        dataTable['output_type'] = 'display_data';\n",
       "        await google.colab.output.renderOutput(dataTable, element);\n",
       "        const docLink = document.createElement('div');\n",
       "        docLink.innerHTML = docLinkHtml;\n",
       "        element.appendChild(docLink);\n",
       "      }\n",
       "    </script>\n",
       "  </div>\n",
       "\n",
       "\n",
       "<div id=\"df-8a752afa-439d-4615-8ddb-90575faecd33\">\n",
       "  <button class=\"colab-df-quickchart\" onclick=\"quickchart('df-8a752afa-439d-4615-8ddb-90575faecd33')\"\n",
       "            title=\"Suggest charts\"\n",
       "            style=\"display:none;\">\n",
       "\n",
       "<svg xmlns=\"http://www.w3.org/2000/svg\" height=\"24px\"viewBox=\"0 0 24 24\"\n",
       "     width=\"24px\">\n",
       "    <g>\n",
       "        <path d=\"M19 3H5c-1.1 0-2 .9-2 2v14c0 1.1.9 2 2 2h14c1.1 0 2-.9 2-2V5c0-1.1-.9-2-2-2zM9 17H7v-7h2v7zm4 0h-2V7h2v10zm4 0h-2v-4h2v4z\"/>\n",
       "    </g>\n",
       "</svg>\n",
       "  </button>\n",
       "\n",
       "<style>\n",
       "  .colab-df-quickchart {\n",
       "      --bg-color: #E8F0FE;\n",
       "      --fill-color: #1967D2;\n",
       "      --hover-bg-color: #E2EBFA;\n",
       "      --hover-fill-color: #174EA6;\n",
       "      --disabled-fill-color: #AAA;\n",
       "      --disabled-bg-color: #DDD;\n",
       "  }\n",
       "\n",
       "  [theme=dark] .colab-df-quickchart {\n",
       "      --bg-color: #3B4455;\n",
       "      --fill-color: #D2E3FC;\n",
       "      --hover-bg-color: #434B5C;\n",
       "      --hover-fill-color: #FFFFFF;\n",
       "      --disabled-bg-color: #3B4455;\n",
       "      --disabled-fill-color: #666;\n",
       "  }\n",
       "\n",
       "  .colab-df-quickchart {\n",
       "    background-color: var(--bg-color);\n",
       "    border: none;\n",
       "    border-radius: 50%;\n",
       "    cursor: pointer;\n",
       "    display: none;\n",
       "    fill: var(--fill-color);\n",
       "    height: 32px;\n",
       "    padding: 0;\n",
       "    width: 32px;\n",
       "  }\n",
       "\n",
       "  .colab-df-quickchart:hover {\n",
       "    background-color: var(--hover-bg-color);\n",
       "    box-shadow: 0 1px 2px rgba(60, 64, 67, 0.3), 0 1px 3px 1px rgba(60, 64, 67, 0.15);\n",
       "    fill: var(--button-hover-fill-color);\n",
       "  }\n",
       "\n",
       "  .colab-df-quickchart-complete:disabled,\n",
       "  .colab-df-quickchart-complete:disabled:hover {\n",
       "    background-color: var(--disabled-bg-color);\n",
       "    fill: var(--disabled-fill-color);\n",
       "    box-shadow: none;\n",
       "  }\n",
       "\n",
       "  .colab-df-spinner {\n",
       "    border: 2px solid var(--fill-color);\n",
       "    border-color: transparent;\n",
       "    border-bottom-color: var(--fill-color);\n",
       "    animation:\n",
       "      spin 1s steps(1) infinite;\n",
       "  }\n",
       "\n",
       "  @keyframes spin {\n",
       "    0% {\n",
       "      border-color: transparent;\n",
       "      border-bottom-color: var(--fill-color);\n",
       "      border-left-color: var(--fill-color);\n",
       "    }\n",
       "    20% {\n",
       "      border-color: transparent;\n",
       "      border-left-color: var(--fill-color);\n",
       "      border-top-color: var(--fill-color);\n",
       "    }\n",
       "    30% {\n",
       "      border-color: transparent;\n",
       "      border-left-color: var(--fill-color);\n",
       "      border-top-color: var(--fill-color);\n",
       "      border-right-color: var(--fill-color);\n",
       "    }\n",
       "    40% {\n",
       "      border-color: transparent;\n",
       "      border-right-color: var(--fill-color);\n",
       "      border-top-color: var(--fill-color);\n",
       "    }\n",
       "    60% {\n",
       "      border-color: transparent;\n",
       "      border-right-color: var(--fill-color);\n",
       "    }\n",
       "    80% {\n",
       "      border-color: transparent;\n",
       "      border-right-color: var(--fill-color);\n",
       "      border-bottom-color: var(--fill-color);\n",
       "    }\n",
       "    90% {\n",
       "      border-color: transparent;\n",
       "      border-bottom-color: var(--fill-color);\n",
       "    }\n",
       "  }\n",
       "</style>\n",
       "\n",
       "  <script>\n",
       "    async function quickchart(key) {\n",
       "      const quickchartButtonEl =\n",
       "        document.querySelector('#' + key + ' button');\n",
       "      quickchartButtonEl.disabled = true;  // To prevent multiple clicks.\n",
       "      quickchartButtonEl.classList.add('colab-df-spinner');\n",
       "      try {\n",
       "        const charts = await google.colab.kernel.invokeFunction(\n",
       "            'suggestCharts', [key], {});\n",
       "      } catch (error) {\n",
       "        console.error('Error during call to suggestCharts:', error);\n",
       "      }\n",
       "      quickchartButtonEl.classList.remove('colab-df-spinner');\n",
       "      quickchartButtonEl.classList.add('colab-df-quickchart-complete');\n",
       "    }\n",
       "    (() => {\n",
       "      let quickchartButtonEl =\n",
       "        document.querySelector('#df-8a752afa-439d-4615-8ddb-90575faecd33 button');\n",
       "      quickchartButtonEl.style.display =\n",
       "        google.colab.kernel.accessAllowed ? 'block' : 'none';\n",
       "    })();\n",
       "  </script>\n",
       "</div>\n",
       "    </div>\n",
       "  </div>\n"
      ],
      "text/plain": [
       "         disrict           client_id  client_catg  region creation_date  \\\n",
       "0             60      train_Client_0           11     101    31/12/1994   \n",
       "1             60      train_Client_0           11     101    31/12/1994   \n",
       "2             60      train_Client_0           11     101    31/12/1994   \n",
       "3             60      train_Client_0           11     101    31/12/1994   \n",
       "4             60      train_Client_0           11     101    31/12/1994   \n",
       "...          ...                 ...          ...     ...           ...   \n",
       "4476739       63  train_Client_99997           11     311    22/11/2011   \n",
       "4476740       63  train_Client_99997           11     311    22/11/2011   \n",
       "4476741       63  train_Client_99997           11     311    22/11/2011   \n",
       "4476742       63  train_Client_99997           11     311    22/11/2011   \n",
       "4476743       63  train_Client_99997           11     311    22/11/2011   \n",
       "\n",
       "         target invoice_date  tarif_type  counter_number counter_statue  ...  \\\n",
       "0           0.0   2014-03-24          11         1335667              0  ...   \n",
       "1           0.0   2013-03-29          11         1335667              0  ...   \n",
       "2           0.0   2015-03-23          11         1335667              0  ...   \n",
       "3           0.0   2015-07-13          11         1335667              0  ...   \n",
       "4           0.0   2016-11-17          11         1335667              0  ...   \n",
       "...         ...          ...         ...             ...            ...  ...   \n",
       "4476739     0.0   2013-12-06          11          262195              0  ...   \n",
       "4476740     0.0   2014-02-17          11          262195              0  ...   \n",
       "4476741     0.0   2014-02-17          40               0              0  ...   \n",
       "4476742     0.0   2014-06-13          11          262195              0  ...   \n",
       "4476743     0.0   2019-11-06          11          262195              0  ...   \n",
       "\n",
       "         reading_remarque  counter_coefficient  consommation_level_1  \\\n",
       "0                       8                    1                    82   \n",
       "1                       6                    1                  1200   \n",
       "2                       8                    1                   123   \n",
       "3                       8                    1                   102   \n",
       "4                       9                    1                   572   \n",
       "...                   ...                  ...                   ...   \n",
       "4476739                 9                    1                   282   \n",
       "4476740                 9                    1                   341   \n",
       "4476741                 9                    1                   118   \n",
       "4476742                 9                    1                   312   \n",
       "4476743                 9                    1                   578   \n",
       "\n",
       "         consommation_level_2  consommation_level_3  consommation_level_4  \\\n",
       "0                           0                     0                     0   \n",
       "1                         184                     0                     0   \n",
       "2                           0                     0                     0   \n",
       "3                           0                     0                     0   \n",
       "4                           0                     0                     0   \n",
       "...                       ...                   ...                   ...   \n",
       "4476739                     0                     0                     0   \n",
       "4476740                     0                     0                     0   \n",
       "4476741                     0                     0                     0   \n",
       "4476742                     0                     0                     0   \n",
       "4476743                     0                     0                     0   \n",
       "\n",
       "         old_index  new_index  months_number  counter_type  \n",
       "0            14302      14384              4          ELEC  \n",
       "1            12294      13678              4          ELEC  \n",
       "2            14624      14747              4          ELEC  \n",
       "3            14747      14849              4          ELEC  \n",
       "4            15066      15638             12          ELEC  \n",
       "...            ...        ...            ...           ...  \n",
       "4476739       1608       1890              4          ELEC  \n",
       "4476740       2221       2562              4          ELEC  \n",
       "4476741        406        524              4           GAZ  \n",
       "4476742       2562       2874              4          ELEC  \n",
       "4476743       8505       9083              4          ELEC  \n",
       "\n",
       "[4168194 rows x 21 columns]"
      ]
     },
     "execution_count": 14,
     "metadata": {},
     "output_type": "execute_result"
    }
   ],
   "source": [
    "#Remove duplicate rows\n",
    "df_merge.drop_duplicates()"
   ]
  },
  {
   "cell_type": "code",
   "execution_count": null,
   "metadata": {
    "colab": {
     "base_uri": "https://localhost:8080/"
    },
    "id": "bYnZ_K7vbQPK",
    "outputId": "af9e5126-260a-4c77-ff14-4d68c6bf8e3d"
   },
   "outputs": [
    {
     "name": "stdout",
     "output_type": "stream",
     "text": [
      "Duplicate rows found:\n",
      "         disrict            client_id  client_catg  region creation_date  \\\n",
      "951893        60  train_Client_125864           11     101    29/12/1998   \n",
      "1755798       62   train_Client_25894           11     301    16/06/1995   \n",
      "2137999       60    train_Client_3636           11     101    21/11/1988   \n",
      "2163374       60   train_Client_37069           11     101    09/03/1990   \n",
      "2433919       60   train_Client_44407           11     101    15/06/1989   \n",
      "2805729       60   train_Client_54609           11     101    16/02/1994   \n",
      "3394719       62    train_Client_7066           11     304    12/04/2013   \n",
      "3462929       60   train_Client_72519           11     101    03/06/1982   \n",
      "3628821       63   train_Client_77029           51     312    27/02/2010   \n",
      "\n",
      "         target invoice_date  tarif_type  counter_number counter_statue  ...  \\\n",
      "951893      0.0   2011-12-12          11          101545              5  ...   \n",
      "1755798     0.0   2010-07-13          40         6986740              5  ...   \n",
      "2137999     0.0   2012-01-18          40          312650              5  ...   \n",
      "2163374     0.0   2010-10-11          11            5284              5  ...   \n",
      "2433919     1.0   2008-02-28          11           66921              5  ...   \n",
      "2805729     0.0   2010-04-06          11          200912              5  ...   \n",
      "3394719     0.0   2014-10-28          40         4463323              5  ...   \n",
      "3462929     0.0   2013-01-21          11          246464              5  ...   \n",
      "3628821     0.0   2012-12-28          11          540417              5  ...   \n",
      "\n",
      "         reading_remarque  counter_coefficient  consommation_level_1  \\\n",
      "951893                  6                    1                     0   \n",
      "1755798                 6                    1                     0   \n",
      "2137999                 6                    1                     0   \n",
      "2163374                 6                    1                     0   \n",
      "2433919                 6                    1                     0   \n",
      "2805729                 6                    1                     0   \n",
      "3394719                 6                    1                     0   \n",
      "3462929                 6                    1                     0   \n",
      "3628821                 6                    1                     0   \n",
      "\n",
      "         consommation_level_2  consommation_level_3  consommation_level_4  \\\n",
      "951893                      0                     0                     0   \n",
      "1755798                     0                     0                     0   \n",
      "2137999                     0                     0                     0   \n",
      "2163374                     0                     0                     0   \n",
      "2433919                     0                     0                     0   \n",
      "2805729                     0                     0                     0   \n",
      "3394719                     0                     0                     0   \n",
      "3462929                     0                     0                     0   \n",
      "3628821                     0                     0                     0   \n",
      "\n",
      "         old_index  new_index  months_number  counter_type  \n",
      "951893       13680      13680              2          ELEC  \n",
      "1755798          0          0              2           GAZ  \n",
      "2137999        623        623              2           GAZ  \n",
      "2163374      99429      99429              2          ELEC  \n",
      "2433919          0          0              2          ELEC  \n",
      "2805729          0          0              2          ELEC  \n",
      "3394719         80         80              2           GAZ  \n",
      "3462929       2954       2954              2          ELEC  \n",
      "3628821      26429      26429              2          ELEC  \n",
      "\n",
      "[9 rows x 21 columns]\n"
     ]
    }
   ],
   "source": [
    "# Check for duplicate rows\n",
    "duplicate_rows = df_merge[df_merge.duplicated()]\n",
    "\n",
    "if duplicate_rows.empty:\n",
    "    print(\"No duplicate rows found.\")\n",
    "else:\n",
    "    print(\"Duplicate rows found:\")\n",
    "    print(duplicate_rows)\n"
   ]
  },
  {
   "cell_type": "markdown",
   "metadata": {
    "id": "0RjrY5WitJ3F"
   },
   "source": [
    "###Outliers Detection Percentage"
   ]
  },
  {
   "cell_type": "code",
   "execution_count": null,
   "metadata": {
    "colab": {
     "base_uri": "https://localhost:8080/"
    },
    "id": "9gE2keYtbU0P",
    "outputId": "9e2c89c0-8205-47b8-a3df-007e10618804"
   },
   "outputs": [
    {
     "name": "stdout",
     "output_type": "stream",
     "text": [
      "Percentage of Outliers in disrict: 0.00%\n",
      "Percentage of Outliers in client_catg: 2.43%\n",
      "Percentage of Outliers in region: 0.00%\n",
      "Percentage of Outliers in tarif_type: 0.00%\n",
      "Percentage of Outliers in counter_number: 0.39%\n",
      "Percentage of Outliers in counter_code: 0.02%\n",
      "Percentage of Outliers in reading_remarque: 0.00%\n",
      "Percentage of Outliers in counter_coefficient: 0.04%\n",
      "Percentage of Outliers in consommation_level_1: 0.44%\n",
      "Percentage of Outliers in consommation_level_2: 0.46%\n",
      "Percentage of Outliers in consommation_level_3: 1.88%\n",
      "Percentage of Outliers in consommation_level_4: 0.55%\n",
      "Percentage of Outliers in old_index: 1.12%\n",
      "Percentage of Outliers in new_index: 1.14%\n",
      "Percentage of Outliers in months_number: 0.03%\n"
     ]
    }
   ],
   "source": [
    "#Outliers\n",
    "for column in df_merge.columns:\n",
    "\n",
    "    if column == 'target':\n",
    "        continue\n",
    "\n",
    "    if df_merge[column].dtype in ['object', 'datetime64[ns]']:\n",
    "        continue\n",
    "\n",
    "    z_scores = zscore(df_merge[column])\n",
    "    z_threshold = 3\n",
    "\n",
    "    outliers_mask = (z_scores < -z_threshold) | (z_scores > z_threshold)\n",
    "\n",
    "    outliers_percentage = outliers_mask.mean() * 100\n",
    "\n",
    "    print(f'Percentage of Outliers in {column}: {outliers_percentage:.2f}%')\n"
   ]
  },
  {
   "cell_type": "code",
   "execution_count": null,
   "metadata": {
    "colab": {
     "base_uri": "https://localhost:8080/"
    },
    "id": "kLk58sOHc3Fu",
    "outputId": "25a42ae2-01b3-457d-85e7-17a486a6cae7"
   },
   "outputs": [
    {
     "name": "stdout",
     "output_type": "stream",
     "text": [
      "<class 'pandas.core.frame.DataFrame'>\n",
      "Int64Index: 4168203 entries, 0 to 4476743\n",
      "Data columns (total 21 columns):\n",
      " #   Column                Dtype         \n",
      "---  ------                -----         \n",
      " 0   disrict               int64         \n",
      " 1   client_id             object        \n",
      " 2   client_catg           int64         \n",
      " 3   region                int64         \n",
      " 4   creation_date         object        \n",
      " 5   target                float64       \n",
      " 6   invoice_date          datetime64[ns]\n",
      " 7   tarif_type            int64         \n",
      " 8   counter_number        int64         \n",
      " 9   counter_statue        object        \n",
      " 10  counter_code          int64         \n",
      " 11  reading_remarque      int64         \n",
      " 12  counter_coefficient   int64         \n",
      " 13  consommation_level_1  int64         \n",
      " 14  consommation_level_2  int64         \n",
      " 15  consommation_level_3  int64         \n",
      " 16  consommation_level_4  int64         \n",
      " 17  old_index             int64         \n",
      " 18  new_index             int64         \n",
      " 19  months_number         int64         \n",
      " 20  counter_type          object        \n",
      "dtypes: datetime64[ns](1), float64(1), int64(15), object(4)\n",
      "memory usage: 699.6+ MB\n"
     ]
    }
   ],
   "source": [
    "df_merge.info()\n"
   ]
  },
  {
   "cell_type": "code",
   "execution_count": null,
   "metadata": {
    "id": "8eKTbal1gWcP"
   },
   "outputs": [],
   "source": [
    "df_merge['target'] = df_merge['target'].astype('int')"
   ]
  },
  {
   "cell_type": "code",
   "execution_count": null,
   "metadata": {
    "id": "F2Bv3e5-hdTU"
   },
   "outputs": [],
   "source": [
    "\n",
    "df_merge['client_catg'] = df_merge['client_catg'].astype('object')\n",
    "df_merge['disrict'] = df_merge['disrict'].astype('object')\n",
    "df_merge['reading_remarque'] = df_merge['reading_remarque'].astype('object')\n",
    "df_merge['target'] = df_merge['target'].astype('int')\n",
    "df_merge['invoice_date'] = pd.to_datetime(df_merge['invoice_date'], dayfirst=True)\n",
    "df_merge['invoice_month'] =df_merge['invoice_date'].dt.month\n",
    "df_merge['invoice_month'] = df_merge['invoice_month'].astype('object')"
   ]
  },
  {
   "cell_type": "code",
   "execution_count": null,
   "metadata": {
    "id": "yxZwxgmrjjaI"
   },
   "outputs": [],
   "source": [
    "df_merge.drop(columns=\"creation_date\", inplace=True)"
   ]
  },
  {
   "cell_type": "code",
   "execution_count": null,
   "metadata": {
    "id": "uSmwd4WSjlxN"
   },
   "outputs": [],
   "source": [
    "df_merge.drop(columns=\"client_id\", inplace=True)"
   ]
  },
  {
   "cell_type": "code",
   "execution_count": null,
   "metadata": {
    "colab": {
     "base_uri": "https://localhost:8080/"
    },
    "id": "DYqa5ApKjn4u",
    "outputId": "726ec51e-eb55-410a-a1fe-819a4df4e19b"
   },
   "outputs": [
    {
     "name": "stdout",
     "output_type": "stream",
     "text": [
      "Categorical Columns: Index([], dtype='object')\n"
     ]
    }
   ],
   "source": [
    "categorical_columns = df_merge.select_dtypes(include='category').columns\n",
    "print(\"Categorical Columns:\", categorical_columns)\n"
   ]
  },
  {
   "cell_type": "code",
   "execution_count": null,
   "metadata": {
    "id": "qgRkGhXGjsk6"
   },
   "outputs": [],
   "source": [
    "df_merge.drop('invoice_date', axis=1, inplace=True)\n"
   ]
  },
  {
   "cell_type": "code",
   "execution_count": null,
   "metadata": {
    "id": "6Hz1WEAQjvhT"
   },
   "outputs": [],
   "source": [
    "df_merge = df_merge.loc[:, ~df_merge.columns.duplicated()]"
   ]
  },
  {
   "cell_type": "code",
   "execution_count": null,
   "metadata": {
    "id": "HXTDI4d6kC_8"
   },
   "outputs": [],
   "source": []
  },
  {
   "cell_type": "markdown",
   "metadata": {
    "id": "G7GZ1Mo6tdrd"
   },
   "source": [
    "###Checking Features Importance"
   ]
  },
  {
   "cell_type": "code",
   "execution_count": null,
   "metadata": {
    "colab": {
     "base_uri": "https://localhost:8080/",
     "height": 718
    },
    "id": "KVdHX9UXNIXy",
    "outputId": "69a06d36-a87c-4c51-f87b-e08f6373da61"
   },
   "outputs": [
    {
     "data": {
      "image/png": "[encoded data removed]",
      "text/plain": [
       "<Figure size 1400x800 with 1 Axes>"
      ]
     },
     "metadata": {},
     "output_type": "display_data"
    }
   ],
   "source": [
    "\n",
    "categorical_columns = ['disrict', 'client_catg', 'counter_statue', 'reading_remarque', 'counter_type', 'invoice_month']\n",
    "for col in categorical_columns:\n",
    "    df_merge[col] = df_merge[col].astype('category')\n",
    "\n",
    "X = df_merge.drop(['target'], axis=1)\n",
    "y = df_merge['target']\n",
    "\n",
    "model = XGBClassifier(enable_categorical=True)  # Enable categorical support\n",
    "\n",
    "cumulative_importances = None\n",
    "\n",
    "batch_size = 1000\n",
    "\n",
    "for i in range(0, len(X), batch_size):\n",
    "    X_batch = X.iloc[i:i+batch_size, :]\n",
    "    y_batch = y.iloc[i:i+batch_size]\n",
    "\n",
    "    model = XGBClassifier(enable_categorical=True)\n",
    "\n",
    "    model.fit(X_batch, y_batch)\n",
    "\n",
    "    if cumulative_importances is None:\n",
    "        cumulative_importances = model.feature_importances_\n",
    "    else:\n",
    "        cumulative_importances += model.feature_importances_\n",
    "\n",
    "feature_importance = pd.Series(cumulative_importances, index=X.columns).sort_values()\n",
    "\n",
    "plt.figure(figsize=(14, 8))\n",
    "feature_importance.plot(kind='barh', color='skyblue', width=0.8)\n",
    "plt.title('Feature Importances')\n",
    "plt.xlabel('Importance')\n",
    "plt.ylabel('Features')\n",
    "plt.yticks(fontsize=10)\n",
    "plt.show()\n"
   ]
  },
  {
   "cell_type": "markdown",
   "metadata": {
    "id": "2kqJhHyxtkqn"
   },
   "source": [
    "###Remove Features"
   ]
  },
  {
   "cell_type": "code",
   "execution_count": null,
   "metadata": {
    "colab": {
     "base_uri": "https://localhost:8080/"
    },
    "id": "Cvbvl56h1dMR",
    "outputId": "d5f2339b-2329-49cf-c189-4f3b3538531a"
   },
   "outputs": [
    {
     "name": "stdout",
     "output_type": "stream",
     "text": [
      "Shape of df_merge after dropping features: (4168203, 17)\n"
     ]
    }
   ],
   "source": [
    "df_merge.drop(['counter_statue', 'counter_type', 'counter_statue' ], axis=1, inplace=True)\n",
    "print(\"Shape of df_merge after dropping features:\", df_merge.shape)\n"
   ]
  },
  {
   "cell_type": "code",
   "execution_count": null,
   "metadata": {
    "colab": {
     "base_uri": "https://localhost:8080/"
    },
    "id": "cPuk9CWS1vy7",
    "outputId": "ffe5ced8-be94-4929-d2e2-5840404a622a"
   },
   "outputs": [
    {
     "name": "stdout",
     "output_type": "stream",
     "text": [
      "Index(['disrict', 'client_catg', 'region', 'target', 'tarif_type',\n",
      "       'counter_number', 'counter_code', 'reading_remarque',\n",
      "       'counter_coefficient', 'consommation_level_1', 'consommation_level_2',\n",
      "       'consommation_level_3', 'consommation_level_4', 'old_index',\n",
      "       'new_index', 'months_number', 'invoice_month'],\n",
      "      dtype='object')\n"
     ]
    }
   ],
   "source": [
    "print(df_merge.columns)"
   ]
  },
  {
   "cell_type": "markdown",
   "metadata": {
    "id": "CQDlkrFrtp_U"
   },
   "source": [
    "###Modeling"
   ]
  },
  {
   "cell_type": "code",
   "execution_count": null,
   "metadata": {
    "colab": {
     "base_uri": "https://localhost:8080/"
    },
    "id": "lMSBZPxEahDR",
    "outputId": "a950ee34-13df-4cc9-ea23-c45991306c8e"
   },
   "outputs": [
    {
     "name": "stdout",
     "output_type": "stream",
     "text": [
      "Evaluation Metrics with Oversampling:\n",
      "Accuracy: 0.6746129377377398\n",
      "Precision: 0.6800695048251562\n",
      "Recall: 0.6594568531887722\n",
      "F1-score: 0.6696045851110916\n",
      "ROC-AUC Score: 0.6746128784869148\n"
     ]
    }
   ],
   "source": [
    "\n",
    "X = df_merge.drop(['target'], axis=1)\n",
    "y = df_merge['target']\n",
    "\n",
    "##OverSampling to minimize the imbalance classs issue\n",
    "oversampler = RandomOverSampler(random_state=42)\n",
    "\n",
    "X_resampled, y_resampled = oversampler.fit_resample(X, y)\n",
    "\n",
    "##Slpit into Test and TRain\n",
    "X_train, X_test, y_train, y_test = train_test_split(X_resampled, y_resampled, test_size=0.2, random_state=42)\n",
    "\n",
    "###XGBoost Classifier\n",
    "model = XGBClassifier(enable_categorical=True)\n",
    "\n",
    "model.fit(X_train, y_train)\n",
    "\n",
    "y_pred = model.predict(X_test)\n",
    "\n",
    "###Evaluation Metrics\n",
    "accuracy = accuracy_score(y_test, y_pred)\n",
    "precision = precision_score(y_test, y_pred)\n",
    "recall = recall_score(y_test, y_pred)\n",
    "f1 = f1_score(y_test, y_pred)\n",
    "roc_auc = roc_auc_score(y_test, y_pred)\n",
    "\n",
    "# Step 8: Print the evaluation metrics\n",
    "print(\"Evaluation Metrics with Oversampling:\")\n",
    "print(\"Accuracy:\", accuracy)\n",
    "print(\"Precision:\", precision)\n",
    "print(\"Recall:\", recall)\n"
   ]
  },
  {
   "cell_type": "markdown",
   "metadata": {
    "id": "tMO44jo4uUNO"
   },
   "source": [
    "###SHapley Additive exPlanations(SHAP)\n",
    "\n",
    "\n"
   ]
  },
  {
   "cell_type": "code",
   "execution_count": null,
   "metadata": {
    "colab": {
     "base_uri": "https://localhost:8080/",
     "height": 1000
    },
    "id": "5Gl64cVy2xe-",
    "outputId": "feb8237a-79f8-43a0-f6d9-8762c0f11d27"
   },
   "outputs": [
    {
     "name": "stdout",
     "output_type": "stream",
     "text": [
      "Requirement already satisfied: shap in /usr/local/lib/python3.10/dist-packages (0.44.1)\n",
      "Requirement already satisfied: numpy in /usr/local/lib/python3.10/dist-packages (from shap) (1.25.2)\n",
      "Requirement already satisfied: scipy in /usr/local/lib/python3.10/dist-packages (from shap) (1.11.4)\n",
      "Requirement already satisfied: scikit-learn in /usr/local/lib/python3.10/dist-packages (from shap) (1.2.2)\n",
      "Requirement already satisfied: pandas in /usr/local/lib/python3.10/dist-packages (from shap) (1.5.3)\n",
      "Requirement already satisfied: tqdm>=4.27.0 in /usr/local/lib/python3.10/dist-packages (from shap) (4.66.2)\n",
      "Requirement already satisfied: packaging>20.9 in /usr/local/lib/python3.10/dist-packages (from shap) (23.2)\n",
      "Requirement already satisfied: slicer==0.0.7 in /usr/local/lib/python3.10/dist-packages (from shap) (0.0.7)\n",
      "Requirement already satisfied: numba in /usr/local/lib/python3.10/dist-packages (from shap) (0.58.1)\n",
      "Requirement already satisfied: cloudpickle in /usr/local/lib/python3.10/dist-packages (from shap) (2.2.1)\n",
      "Requirement already satisfied: llvmlite<0.42,>=0.41.0dev0 in /usr/local/lib/python3.10/dist-packages (from numba->shap) (0.41.1)\n",
      "Requirement already satisfied: python-dateutil>=2.8.1 in /usr/local/lib/python3.10/dist-packages (from pandas->shap) (2.8.2)\n",
      "Requirement already satisfied: pytz>=2020.1 in /usr/local/lib/python3.10/dist-packages (from pandas->shap) (2023.4)\n",
      "Requirement already satisfied: joblib>=1.1.1 in /usr/local/lib/python3.10/dist-packages (from scikit-learn->shap) (1.3.2)\n",
      "Requirement already satisfied: threadpoolctl>=2.0.0 in /usr/local/lib/python3.10/dist-packages (from scikit-learn->shap) (3.3.0)\n",
      "Requirement already satisfied: six>=1.5 in /usr/local/lib/python3.10/dist-packages (from python-dateutil>=2.8.1->pandas->shap) (1.16.0)\n"
     ]
    },
    {
     "data": {
      "image/png": "[encoded data removed]",
      "text/plain": [
       "<Figure size 800x790 with 2 Axes>"
      ]
     },
     "metadata": {},
     "output_type": "display_data"
    }
   ],
   "source": [
    "explainer = shap.TreeExplainer(model)\n",
    "shap_values = explainer.shap_values(X_test)\n",
    "shap.summary_plot(shap_values, X_test)\n"
   ]
  }
 ],
 "metadata": {
  "colab": {
   "provenance": []
  },
  "kernelspec": {
   "display_name": "Python 3",
   "name": "python3"
  },
  "language_info": {
   "name": "python"
  }
 },
 "nbformat": 4,
 "nbformat_minor": 0
}
